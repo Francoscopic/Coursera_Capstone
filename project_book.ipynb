# Hello there.
### My name is Joshua Francis and this notebook is for my *Coursera Capstone* project
